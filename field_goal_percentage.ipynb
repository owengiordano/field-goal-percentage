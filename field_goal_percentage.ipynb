{
  "nbformat": 4,
  "nbformat_minor": 0,
  "metadata": {
    "colab": {
      "provenance": []
    },
    "kernelspec": {
      "name": "python3",
      "display_name": "Python 3"
    },
    "language_info": {
      "name": "python"
    }
  },
  "cells": [
    {
      "cell_type": "markdown",
      "source": [
        "# Step 1: Finding a suitable dataset\n",
        "Correlation analysis and linear regression were two skills able to most grab my attention. Therefore, I chose to incorporate both topics to complete this project.\n",
        "\n",
        "In the process of selecting a dataset, my aim was to find a subject matter that genuinely intrigued me. Consequently, I conducted an extensive search on kaggle.com, a reputable platform for datasets, with the intention of identifying a reliable NBA dataset encompassing comprehensive statistics from the top basketball players spanning several decades.\n",
        "\n",
        "After careful consideration, I ultimately opted for the \"mvp_votings.csv\" dataset, which spans a time frame of 36 years and comprises a total of 637 player season stat lines.\n",
        "\n",
        "\n",
        "\n"
      ],
      "metadata": {
        "id": "Dv17o4rsqMuR"
      }
    },
    {
      "cell_type": "code",
      "execution_count": null,
      "metadata": {
        "id": "hdiQLyXfjw9w"
      },
      "outputs": [],
      "source": [
        "from datascience import *\n",
        "import numpy as np\n",
        "\n",
        "import matplotlib\n",
        "matplotlib.use('Agg')\n",
        "%matplotlib inline\n",
        "import matplotlib.pyplot as plots\n",
        "plots.style.use('fivethirtyeight')\n",
        "\n",
        "Table.chart_colors=('blue', 'red')\n",
        "plots.rcParams['figure.facecolor']='white'\n",
        "plots.rcParams['axes.facecolor']='white'"
      ]
    },
    {
      "cell_type": "code",
      "source": [
        "data = Table.read_table('mvp_votings.csv')"
      ],
      "metadata": {
        "id": "E1CpU-hjlUZE"
      },
      "execution_count": null,
      "outputs": []
    },
    {
      "cell_type": "markdown",
      "source": [
        "# Step 2: Data Cleaning and Problem Formulation\n",
        "It is widely acknowledged that the most prominent NBA players exert a profound influence on the sport of basketball at all levels. Notable examples include Allen Iverson, who introduced a captivating style of dribbling, and Steve Nash, who popularized unconventional passes.\n",
        "\n",
        "However, I am particularly intrigued by the impact of Stephen Curry's playing style. In order to delve into this topic more specifically, I would like to examine the relationship between the average number of three-pointers attempted per game and the overall field goal percentage. To accomplish this, I will compile data from the top players of each year since 1980, capturing their collective average field goal percentage alongside their collective average number of three-point attempts per game. These statistics will be organized into a comprehensive table.\n",
        "\n",
        "Subsequently, I will construct a correlation matrix to ascertain the correlation coefficient, denoted as \"r,\" which quantifies the relationship between the average number of three-point attempts per game and the average field goal percentage. By analyzing this correlation coefficient, I will be able to determine the slope and intercept values that establish the connection between the average field goal percentage and the average number of three-point attempts.\n",
        "\n",
        "Armed with this valuable information, I will leverage my expertise in linear regression to predict the field goal percentage based on the number of three-point attempts per game. In this context, the number of three-point attempts will serve as the independent variable, while the field goal percentage will function as the dependent variable.\n"
      ],
      "metadata": {
        "id": "NZ9YRIuju2bP"
      }
    },
    {
      "cell_type": "markdown",
      "source": [
        "# Correlation Analysis"
      ],
      "metadata": {
        "id": "b7PsFccQ4XNp"
      }
    },
    {
      "cell_type": "code",
      "source": [
        "table = Table().with_columns('Year', make_array(), 'fg_pct', make_array(), 'fg3a', make_array())\n",
        "for i in range(36):\n",
        "  year = str(i + 1980)\n",
        "  next = str(int(year) + 1)\n",
        "  next = next[2:]\n",
        "  test = data.column('season')\n",
        "  draft = data.where('season', np.str_('{}-{}'.format(year, next)))\n",
        "  field_goal_pct = draft.column('fg_pct')\n",
        "  field_goal_pct = np.mean(field_goal_pct)\n",
        "  #DATA CLEANING\n",
        "  field_goal_pct = np.delete(field_goal_pct, np.where(field_goal_pct == 0))\n",
        "  threes_attempted = draft.column('fg3a')\n",
        "  #DATA CLEANING\n",
        "  threes_attempted = np.delete(threes_attempted, np.where(threes_attempted == 0))\n",
        "  threes_attempted = np.mean(threes_attempted)\n",
        "  table.append((next, field_goal_pct, threes_attempted))"
      ],
      "metadata": {
        "id": "us1a3Y9OldLz"
      },
      "execution_count": null,
      "outputs": []
    },
    {
      "cell_type": "code",
      "source": [
        "x = table.column('fg3a')\n",
        "y = table.column('fg_pct')\n",
        "r_matrix = np.corrcoef(x,y)\n",
        "r = r_matrix[0,1]\n",
        "r"
      ],
      "metadata": {
        "colab": {
          "base_uri": "https://localhost:8080/"
        },
        "id": "65recG99s1g4",
        "outputId": "122e1377-9856-4a9f-9f67-efe6c27ac927"
      },
      "execution_count": null,
      "outputs": [
        {
          "output_type": "execute_result",
          "data": {
            "text/plain": [
              "-0.7514083404211036"
            ]
          },
          "metadata": {},
          "execution_count": 272
        }
      ]
    },
    {
      "cell_type": "code",
      "source": [
        "mean_cx = np.mean(x)\n",
        "mean_cy = np.mean(y)\n",
        "dev_x = []\n",
        "dev_y = []\n",
        "for i in x:\n",
        "  dev_x.append(i - mean_cx)\n",
        "for i in y:\n",
        "  dev_y.append(i - mean_cy)\n",
        "dev_x = np.array(dev_x)\n",
        "dev_y = np.array(dev_y)"
      ],
      "metadata": {
        "id": "kDfka4U1Lw5r"
      },
      "execution_count": null,
      "outputs": []
    },
    {
      "cell_type": "code",
      "source": [
        "std_x = np.std(dev_x)\n",
        "std_y = np.std(dev_y)\n",
        "inter = mean_cy - (r * (std_y/std_x) * mean_cx)\n",
        "slope = r * (std_y/std_x)"
      ],
      "metadata": {
        "id": "xzQNxLfDL1Y9"
      },
      "execution_count": null,
      "outputs": []
    },
    {
      "cell_type": "markdown",
      "source": [
        "# Linear Regression"
      ],
      "metadata": {
        "id": "u1xPKyWZ4gct"
      }
    },
    {
      "cell_type": "code",
      "source": [
        "def linear_predict(value, slope, intercept):\n",
        "  return slope * value + intercept\n",
        "\n",
        "linear_predictions = Table().with_columns('Linear', make_array())\n",
        "#x = np.sort(x)\n",
        "for val in x:\n",
        "  child_predicted = linear_predict(val,\n",
        "                                   slope, # slope\n",
        "                                   inter  # intercept\n",
        "                                  )\n",
        "  linear_predictions.append((child_predicted,))\n",
        "line = linear_predictions.column('Linear')"
      ],
      "metadata": {
        "id": "M-814LsiL3Yg"
      },
      "execution_count": null,
      "outputs": []
    },
    {
      "cell_type": "code",
      "source": [
        "def linear_rmse(slope, intercept):\n",
        "  y = table.column('fg_pct')\n",
        "  x = table.column('fg3a')\n",
        "  predictions = Table().with_columns('Area prediction', make_array())\n",
        "  for i in x:\n",
        "    prediction = slope * i + intercept\n",
        "    predictions.append((prediction,))\n",
        "  error = y - predictions.column('Area prediction')\n",
        "  if np.mean(error) < 0:\n",
        "    return -1 * np.sqrt(np.mean(error ** 2))\n",
        "  return np.sqrt(np.mean(error ** 2))"
      ],
      "metadata": {
        "id": "w5nIx3pkMU7x"
      },
      "execution_count": null,
      "outputs": []
    },
    {
      "cell_type": "code",
      "source": [
        "print(f'RMSE: {linear_rmse(slope, inter)}')"
      ],
      "metadata": {
        "colab": {
          "base_uri": "https://localhost:8080/"
        },
        "id": "8vHqUDcFSw5p",
        "outputId": "ea576abc-0a94-4d67-cb65-b20004031e15"
      },
      "execution_count": null,
      "outputs": [
        {
          "output_type": "stream",
          "name": "stdout",
          "text": [
            "RMSE: -0.011828120972812637\n"
          ]
        }
      ]
    },
    {
      "cell_type": "code",
      "source": [
        "table.scatter('fg3a', 'fg_pct')\n",
        "plots.plot(x,line, 'r')"
      ],
      "metadata": {
        "colab": {
          "base_uri": "https://localhost:8080/",
          "height": 376
        },
        "id": "L2m_1ill6Wws",
        "outputId": "9fc9147b-542e-417b-c6ab-f7093409abe9"
      },
      "execution_count": null,
      "outputs": [
        {
          "output_type": "execute_result",
          "data": {
            "text/plain": [
              "[<matplotlib.lines.Line2D at 0x7f7e8cf093d0>]"
            ]
          },
          "metadata": {},
          "execution_count": 274
        },
        {
          "output_type": "display_data",
          "data": {
            "text/plain": [
              "<Figure size 360x360 with 1 Axes>"
            ],
            "image/png": "[encoded data removed]"
          },
          "metadata": {}
        }
      ]
    },
    {
      "cell_type": "markdown",
      "source": [
        "# Step 3: Analysis\n",
        "This project was both highly intriguing and immensely fulfilling. My objective was to investigate the potential relationship between field goal percentage and the number of three-pointers attempted per game, employing the methodologies of correlation analysis and linear regression.\n",
        "\n",
        "To my surprise, the results of the analysis revealed a lack of any significant correlation between field goal percentage and the quantity of three-point attempts. While I initially anticipated a negative correlation, given the negative slope observed, the absence of such a relationship was unexpected. Contrary to popular assumptions, the data does not support the notion that an increase in three-point attempts is directly associated with a decline in field goal percentage.\n",
        "\n",
        "It is important to acknowledge the undeniable impact of Stephen Curry on the game of basketball. However, it would be erroneous to solely attribute lower field goal percentages to his influence. Although his playing style has often been associated with an increase in low-percentage shots, this study refutes the theory that Stephen Curry is solely responsible for any perceived decline in field goal percentages.\n",
        "\n",
        "In summary, this project provided a valuable and captivating exploration of the intricate dynamics between field goal percentage and three-point attempts. The findings challenge conventional wisdom and offer valuable insights into the multifaceted nature of basketball."
      ],
      "metadata": {
        "id": "cbBYcsfe4FEs"
      }
    }
  ]
}